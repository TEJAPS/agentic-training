{
 "cells": [
  {
   "cell_type": "code",
   "execution_count": 7,
   "id": "bb135cb8-67ee-4168-b6b5-2512990271f2",
   "metadata": {},
   "outputs": [],
   "source": [
    "# Toy embeddings (d=4) for a few tokens\n",
    "E = {\n",
    "  \"king\":  [0.9, 0.8, 0.1, 0.0],\n",
    "  \"queen\": [0.88, 0.82, 0.12, 0.02],\n",
    "  \"man\":   [0.75, 0.60, 0.05, -0.02],\n",
    "  \"woman\": [0.72, 0.62, 0.07,  0.00],\n",
    "  \"chef\":  [0.10, 0.22, 0.85,  0.40],\n",
    "}"
   ]
  },
  {
   "cell_type": "code",
   "execution_count": 9,
   "id": "2febae5e-53fd-4813-a067-ed1278e31c2a",
   "metadata": {},
   "outputs": [],
   "source": [
    "def cos_sim(a,b):\n",
    "    import math\n",
    "    dot = sum(x*y for x,y in zip(a,b))\n",
    "    na  = math.sqrt(sum(x*x for x in a))\n",
    "    nb  = math.sqrt(sum(y*y for y in b))\n",
    "    return dot/(na*nb)"
   ]
  },
  {
   "cell_type": "code",
   "execution_count": 11,
   "id": "d4d67fac-136e-4549-bb0c-8c0034dfbb2a",
   "metadata": {},
   "outputs": [
    {
     "data": {
      "text/plain": [
       "[('king', 0.9994525047495437),\n",
       " ('woman', 0.9987652835589712),\n",
       " ('man', 0.9953584400375494),\n",
       " ('chef', 0.3226748570228522)]"
      ]
     },
     "execution_count": 11,
     "metadata": {},
     "output_type": "execute_result"
    }
   ],
   "source": [
    " # Nearest neighbors for 'queen'\n",
    "sorted([(w, cos_sim(E[\"queen\"], v)) for w,v in E.items() if w!=\"queen\"],\n",
    "       key=lambda x: x[1], reverse=True)"
   ]
  },
  {
   "cell_type": "code",
   "execution_count": null,
   "id": "dba7498c-1c8f-449b-bca2-f2f1bbea5e43",
   "metadata": {},
   "outputs": [],
   "source": []
  },
  {
   "cell_type": "code",
   "execution_count": null,
   "id": "1136ff54-83c0-4cbb-8638-974d130e5388",
   "metadata": {},
   "outputs": [],
   "source": []
  }
 ],
 "metadata": {
  "kernelspec": {
   "display_name": "Python [conda env:base] *",
   "language": "python",
   "name": "conda-base-py"
  },
  "language_info": {
   "codemirror_mode": {
    "name": "ipython",
    "version": 3
   },
   "file_extension": ".py",
   "mimetype": "text/x-python",
   "name": "python",
   "nbconvert_exporter": "python",
   "pygments_lexer": "ipython3",
   "version": "3.12.7"
  }
 },
 "nbformat": 4,
 "nbformat_minor": 5
}
